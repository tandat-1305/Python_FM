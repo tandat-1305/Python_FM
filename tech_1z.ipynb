{
  "nbformat": 4,
  "nbformat_minor": 0,
  "metadata": {
    "colab": {
      "name": "tech_1z.ipynb",
      "provenance": [],
      "authorship_tag": "ABX9TyM5xxNNAfx5IGBpZUnxUPX6",
      "include_colab_link": true
    },
    "kernelspec": {
      "name": "python3",
      "display_name": "Python 3"
    }
  },
  "cells": [
    {
      "cell_type": "markdown",
      "metadata": {
        "id": "view-in-github",
        "colab_type": "text"
      },
      "source": [
        "<a href=\"https://colab.research.google.com/github/tandat-1305/Python_FM/blob/main/tech_1z.ipynb\" target=\"_parent\"><img src=\"https://colab.research.google.com/assets/colab-badge.svg\" alt=\"Open In Colab\"/></a>"
      ]
    },
    {
      "cell_type": "code",
      "metadata": {
        "id": "Hppr3YYNmm8Y"
      },
      "source": [
        "from bs4 import BeautifulSoup\r\n",
        "import urllib.request\r\n",
        "import os"
      ],
      "execution_count": null,
      "outputs": []
    },
    {
      "cell_type": "code",
      "metadata": {
        "id": "uFL7FP0gsxFH"
      },
      "source": [
        "url = 'https://vietnamnet.vn/vn/oto-xe-may/honda-sh-2019-tang-gia-phi-ma-o-thi-truong-xe-may-cu-704650.html'\r\n",
        "page = requests.get(url)\r\n",
        "soup = BeautifulSoup(page.text, \"html.parser\")\r\n",
        "html = soup.prettify()\r\n",
        "print(html)\r\n"
      ],
      "execution_count": null,
      "outputs": []
    },
    {
      "cell_type": "markdown",
      "metadata": {
        "id": "4JXfP8n3xvln"
      },
      "source": [
        "2.Lưu 1 html vào thư mục chỉ định"
      ]
    },
    {
      "cell_type": "code",
      "metadata": {
        "id": "-dPRvEFJxtrv"
      },
      "source": [
        "path = 'C:\\\\Users\\\\DELL\\\\'\r\n",
        "os.chdir(path)\r\n",
        "t = 'url_list'\r\n",
        "os.mkdir(t) \r\n",
        "path1= path + t\r\n",
        "os.chdir(path1)\r\n",
        "file = \"html_file\" + \".txt\"\r\n",
        "f = open(file, \"w\")\r\n",
        "f.write(html)\r\n",
        "f.close()\r\n",
        "print(f)"
      ],
      "execution_count": null,
      "outputs": []
    },
    {
      "cell_type": "markdown",
      "metadata": {
        "id": "35mQ4-dJv5im"
      },
      "source": [
        "3. Xóa 1 phần tử\r\n"
      ]
    },
    {
      "cell_type": "code",
      "metadata": {
        "colab": {
          "base_uri": "https://localhost:8080/"
        },
        "id": "r7QFYg1TwcGx",
        "outputId": "e5f0ded5-e519-4a27-8148-43e8b4b6bf5f"
      },
      "source": [
        "list_1 = [1,2,3,4,5,6]\r\n",
        "list_1.pop(0)\r\n",
        "print(list_1)"
      ],
      "execution_count": null,
      "outputs": [
        {
          "output_type": "stream",
          "text": [
            "[2, 3, 4, 5, 6]\n"
          ],
          "name": "stdout"
        }
      ]
    },
    {
      "cell_type": "markdown",
      "metadata": {
        "id": "78-SSKAZwu5n"
      },
      "source": [
        "4. Lấy các url từ html\r\n"
      ]
    },
    {
      "cell_type": "code",
      "metadata": {
        "colab": {
          "base_uri": "https://localhost:8080/",
          "height": 129
        },
        "id": "eTu3jBJhxDD2",
        "outputId": "a11f7c6e-dcc6-48ef-e816-c5de3b02942a"
      },
      "source": [
        ""
      ],
      "execution_count": null,
      "outputs": [
        {
          "output_type": "error",
          "ename": "IndentationError",
          "evalue": "ignored",
          "traceback": [
            "\u001b[0;36m  File \u001b[0;32m\"<ipython-input-55-bec4eee0c06c>\"\u001b[0;36m, line \u001b[0;32m7\u001b[0m\n\u001b[0;31m    else:\u001b[0m\n\u001b[0m       ^\u001b[0m\n\u001b[0;31mIndentationError\u001b[0m\u001b[0;31m:\u001b[0m expected an indented block\n"
          ]
        }
      ]
    },
    {
      "cell_type": "markdown",
      "metadata": {
        "id": "A9lceB-osrmX"
      },
      "source": [
        ""
      ]
    }
  ]
}