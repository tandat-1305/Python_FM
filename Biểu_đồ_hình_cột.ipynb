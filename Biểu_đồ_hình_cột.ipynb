{
  "nbformat": 4,
  "nbformat_minor": 0,
  "metadata": {
    "colab": {
      "name": "Biểu đồ hình cột.ipynb",
      "provenance": [],
      "authorship_tag": "ABX9TyOv0q4HjVHEMzZFIjSrqyj5",
      "include_colab_link": true
    },
    "kernelspec": {
      "name": "python3",
      "display_name": "Python 3"
    }
  },
  "cells": [
    {
      "cell_type": "markdown",
      "metadata": {
        "id": "view-in-github",
        "colab_type": "text"
      },
      "source": [
        "<a href=\"https://colab.research.google.com/github/tandat-1305/TestSpyder/blob/main/Bi%E1%BB%83u_%C4%91%E1%BB%93_h%C3%ACnh_c%E1%BB%99t.ipynb\" target=\"_parent\"><img src=\"https://colab.research.google.com/assets/colab-badge.svg\" alt=\"Open In Colab\"/></a>"
      ]
    },
    {
      "cell_type": "code",
      "metadata": {
        "colab": {
          "base_uri": "https://localhost:8080/",
          "height": 296
        },
        "id": "zLK5h8ERq1Tq",
        "outputId": "5a94bdf8-9c79-46e6-fbef-53fa1e812ee3"
      },
      "source": [
        "# Máy em lỗi matplotlib trên spyder\n",
        "# Matplotlib\n",
        "import matplotlib.pyplot as plt\n",
        "import numpy as np\n",
        "color_names = [\"Hà Nội\", \"Huế\", \"Sài Gòn\"]\n",
        "colors = [\"red\", \"blue\", \"yellow\"]\n",
        "luong_mua = [50,590,100]\n",
        "plt.bar(xs, luong_mua, color=colors)\n",
        "plt.xticks([i+0.02 for i, _ in enumerate(color_names)], color_names)\n",
        "plt.title(\"Lượng mưa tháng 11\")\n",
        "plt.xlabel(\"Lượng mưa tháng 11\")\n",
        "plt.ylabel(\"mm\")\n",
        "plt.show()"
      ],
      "execution_count": 30,
      "outputs": [
        {
          "output_type": "display_data",
          "data": {
            "image/png": "[encoded data removed]",
            "text/plain": [
              "<Figure size 432x288 with 1 Axes>"
            ]
          },
          "metadata": {
            "tags": [],
            "needs_background": "light"
          }
        }
      ]
    }
  ]
}