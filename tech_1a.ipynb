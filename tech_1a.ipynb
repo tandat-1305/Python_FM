{
  "nbformat": 4,
  "nbformat_minor": 0,
  "metadata": {
    "colab": {
      "name": "tech_1a.ipynb",
      "provenance": [],
      "authorship_tag": "ABX9TyNxcjvVzOYptRBj2Wr3+Oxh",
      "include_colab_link": true
    },
    "kernelspec": {
      "name": "python3",
      "display_name": "Python 3"
    }
  },
  "cells": [
    {
      "cell_type": "markdown",
      "metadata": {
        "id": "view-in-github",
        "colab_type": "text"
      },
      "source": [
        "<a href=\"https://colab.research.google.com/github/tandat-1305/Python_FM/blob/main/tech_1a.ipynb\" target=\"_parent\"><img src=\"https://colab.research.google.com/assets/colab-badge.svg\" alt=\"Open In Colab\"/></a>"
      ]
    },
    {
      "cell_type": "code",
      "metadata": {
        "id": "Hppr3YYNmm8Y"
      },
      "source": [
        "from bs4 import BeautifulSoup\r\n",
        "import urllib.request\r\n",
        "import os"
      ],
      "execution_count": 1,
      "outputs": []
    },
    {
      "cell_type": "code",
      "metadata": {
        "id": "uFL7FP0gsxFH"
      },
      "source": [
        "url = 'https://vietnamnet.vn/vn/oto-xe-may/honda-sh-2019-tang-gia-phi-ma-o-thi-truong-xe-may-cu-704650.html'\r\n",
        "page = requests.get(url)\r\n",
        "soup = BeautifulSoup(page.text, \"html.parser\")\r\n",
        "html = soup.prettify()\r\n",
        "print(html)\r\n"
      ],
      "execution_count": null,
      "outputs": []
    },
    {
      "cell_type": "markdown",
      "metadata": {
        "id": "4JXfP8n3xvln"
      },
      "source": [
        "2.Lưu 1 html vào thư mục chỉ định"
      ]
    },
    {
      "cell_type": "code",
      "metadata": {
        "id": "-dPRvEFJxtrv"
      },
      "source": [
        "path = 'C:\\\\Users\\\\DELL\\\\'\r\n",
        "os.chdir(path)\r\n",
        "t = 'url_list'\r\n",
        "os.mkdir(t) \r\n",
        "path1= path + t\r\n",
        "os.chdir(path1)\r\n",
        "file = \"html_file\" + \".txt\"\r\n",
        "f = open(file, \"w\")\r\n",
        "f.write(html)\r\n",
        "f.close()\r\n",
        "print(f)"
      ],
      "execution_count": null,
      "outputs": []
    },
    {
      "cell_type": "markdown",
      "metadata": {
        "id": "35mQ4-dJv5im"
      },
      "source": [
        "3. Xóa 1 phần tử\r\n"
      ]
    },
    {
      "cell_type": "code",
      "metadata": {
        "id": "r7QFYg1TwcGx"
      },
      "source": [
        "list_1 = [1,2,3,4,5,6]\r\n",
        "list_1.pop(0)\r\n",
        "print(list_1)"
      ],
      "execution_count": null,
      "outputs": []
    },
    {
      "cell_type": "markdown",
      "metadata": {
        "id": "78-SSKAZwu5n"
      },
      "source": [
        "4. Lấy các url từ html\r\n"
      ]
    },
    {
      "cell_type": "code",
      "metadata": {
        "id": "eTu3jBJhxDD2"
      },
      "source": [
        "for item in soup.find_all(\"a\"):\r\n",
        "      if 'href' in item.attrs:\r\n",
        "            print(item.attrs['href'])\r\n",
        "            for i in item.attrs['href']:\r\n",
        "                if (i[len(i)] == 'g') and i[len(i)] == 3:                   \r\n",
        "                else:\r\n",
        "                    print(item.attrs['href'])"
      ],
      "execution_count": null,
      "outputs": []
    },
    {
      "cell_type": "markdown",
      "metadata": {
        "id": "A9lceB-osrmX"
      },
      "source": [
        ""
      ]
    }
  ]
}